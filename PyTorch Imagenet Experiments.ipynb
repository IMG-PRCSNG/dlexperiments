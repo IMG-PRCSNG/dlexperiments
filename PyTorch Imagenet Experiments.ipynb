{
 "cells": [
  {
   "cell_type": "markdown",
   "metadata": {},
   "source": [
    "### PyTorch CNN Training\n",
    "\n",
    "PyTorch is a dynamic graph NN library which constructs the graph as you execute and run it as well unlike TF, Caffe, where the graph is specified first and then the same graph is run over and over.\n",
    "\n",
    "At first thought it might not make sense to use such a framework for traditional CNN usage which majorly involves finetuning from an existing model from the perspective of performance. But It is really useful when it comes to RNN and LSTM where we un roll our graphs based on the input length. We can also do crazy shit even in CNN where we use the same weights and recurrently process the input etc.\n",
    "\n",
    "PyTorch also has the advantage of being a drop in replacement for numpy with GPU acceleration."
   ]
  },
  {
   "cell_type": "code",
   "execution_count": 4,
   "metadata": {
    "collapsed": true
   },
   "outputs": [],
   "source": [
    "import torch\n",
    "import torch.backends.cudnn as cudnn\n",
    "import torch.nn as nn # For loss function\n",
    "from torch.optim import lr_scheduler # Learning rate adjustments\n",
    "\n",
    "from common import load_dataset, load_model"
   ]
  },
  {
   "cell_type": "markdown",
   "metadata": {},
   "source": [
    "---\n",
    "#### Loading data and model\n",
    "\n",
    "There is this module called torchvision which can be used to load and transform data, use pretrained models. It is very helpful to get started with PyTorch Framework for Deep Learning.\n",
    "\n",
    "The utility code found in *common.py* helps with loading the model as well as data in our folders as a dataset inside torchvision. It is from the official PyTorch tutorial. The folder structure needs to be as follows for train and val sets.\n",
    "\n",
    "*Train*\n",
    "```\n",
    " root/train/class1/img1.jpg  \n",
    " root/train/class1/img2.jpg  \n",
    " ...  \n",
    " root/train/class2/img1.jpg  \n",
    " ...  \n",
    " ...  \n",
    "``` \n",
    "*Val*  \n",
    "```\n",
    "root/val/class1/img1.jpg  \n",
    " ...  \n",
    "```\n",
    "\n",
    "\n",
    "Please check the *common.py* for implementation details. Lets use inception in this example.\n",
    "\n",
    "For loading the data, we need to know \n",
    " - Architecture (To determine input size)\n",
    " - The root directory where our data is kept (as illustrated above)\n",
    " - Batch size\n",
    " - Number of worker threads\n",
    " \n",
    "The `load_dataset` will return the dataset-dataloader combo for the two phases\n",
    " \n",
    "For the model, we need to pass the \n",
    " - Architecture, \n",
    " - Number of output classes for our problem.\n",
    " - Whether to load pretrained model\n",
    "\n",
    "When we load a pretrained model, it will complain due to mismatch of sizes in the classification layer. I have added the params to the list `conflicted_params` and reinitialized them with random weights. Make sure you don't freeze them while training."
   ]
  },
  {
   "cell_type": "code",
   "execution_count": 2,
   "metadata": {},
   "outputs": [
    {
     "name": "stderr",
     "output_type": "stream",
     "text": [
      "/media/hv-titan/Partition2/devil/anaconda2/lib/python2.7/site-packages/torchvision/models/inception.py:65: UserWarning: src is not broadcastable to dst, but they have the same number of elements.  Falling back to deprecated pointwise behavior.\n",
      "  m.weight.data.copy_(values)\n"
     ]
    },
    {
     "name": "stdout",
     "output_type": "stream",
     "text": [
      "=> using pre-trained model 'inception_v3'\n",
      "\n",
      "================================================================================\n",
      "--> Ignoring 'AuxLogits.conv0.conv.weight,AuxLogits.conv0.bn.weight,AuxLogits.conv0.bn.bias,AuxLogits.conv0.bn.running_mean,AuxLogits.conv0.bn.running_var,AuxLogits.conv1.conv.weight,AuxLogits.conv1.bn.weight,AuxLogits.conv1.bn.bias,AuxLogits.conv1.bn.running_mean,AuxLogits.conv1.bn.running_var,AuxLogits.fc.weight,AuxLogits.fc.bias' during restore\n",
      "================================================================================\n",
      "--> Leaving  'fc.weight,fc.bias' unitialized due to size mismatch / not present in pretrained model\n",
      "================================================================================\n"
     ]
    }
   ],
   "source": [
    "datasets, dataloaders = load_dataset(\"inception_v3\", \"./data\", batch_size = 32, workers = 4)\n",
    "model, conflicted_params = load_model(\"inception_v3\", 2, pretrained=True)"
   ]
  },
  {
   "cell_type": "markdown",
   "metadata": {},
   "source": [
    "---\n",
    "#### Training the model\n",
    "\n",
    "To train any deep learning model we need two things\n",
    " - Loss Criterion\n",
    " - Optimizer\n",
    " \n",
    "Loss criterion decides how we compute our loss, thereby determining our gradients.\n",
    "Optimizer helps us take a weight update step based on those gradients.\n",
    "We can optionally have a learning rate scheduler to change learning rate as the training progresses.\n",
    "\n",
    "In our experiment, we will use the famous CrossEntropyLoss for Multi Class Classfication, SGD Optimizer and a Step scheduler for learning rate."
   ]
  },
  {
   "cell_type": "code",
   "execution_count": 7,
   "metadata": {},
   "outputs": [],
   "source": [
    "# Cross entropy loss between predicted and target\n",
    "criterion = nn.CrossEntropyLoss()\n",
    "\n",
    "optimizer = torch.optim.SGD(model.parameters(), 0.01, momentum=0.9, weight_decay=1e-4)\n",
    "\n",
    "# For every 7 epochs, lr is multiplied by 0.1\n",
    "scheduler = lr_scheduler.StepLR(optimizer, step_size = 7, gamma=0.1) "
   ]
  },
  {
   "cell_type": "markdown",
   "metadata": {},
   "source": [
    "---\n",
    "#### Running the Training loop\n",
    "\n",
    "To train the model with the data that we loaded earlier, we need to \n",
    " - Zero out the gradients in the last pass\n",
    " - Do a forward pass on the training batch\n",
    " - Calculate the loss\n",
    " - Do loss.backward() to compute the gradients\n",
    " - optimizer.step() to update all the gradients\n",
    " \n",
    "These steps must be repeated for the entire training set. Whenever you run through the entire training set, it is defined as the completion of an *Epoch*. We can run it for as many epochs as we like. The bonus is that for every epoch, the data gets shuffled and transformed differently by the dataset - dataloader combo that we created with torchvision earlier. This is also called data augmentation. This will ensure we don't keep reusing the same samples over and over again in a mini batch and can help avoid over-fitting.\n",
    "\n",
    "#### Running the Validation Loop\n",
    "\n",
    "The validation loop is also similar to the training loop, except\n",
    " - We don't have to update the weights, so no backward / step\n",
    " - We need to measure accuracy - How many classified correctly\n",
    " - If the performance is better, we can save this as our \"Best model\"\n",
    " \n",
    "\n",
    "For every one epoch of training, validation is also performed and we save the model if it is better than our previous one.\n",
    "\n",
    "All of this is packed into the Experiment Class present in `experiment.py` - partially inspired by Tensorflow Estimator API\n",
    "\n",
    "For this experiment, lets freeze the remaining part of the net except the classifier layer.\n",
    "\n",
    "*Warning - If you freeze all the parameters, you won't learn anything and the loss.backward() will complain saying there is nothing to do backward for*"
   ]
  },
  {
   "cell_type": "code",
   "execution_count": 11,
   "metadata": {},
   "outputs": [
    {
     "name": "stdout",
     "output_type": "stream",
     "text": [
      "Ready to rock and roll!\n"
     ]
    }
   ],
   "source": [
    "import experiment\n",
    "reload(experiment)\n",
    "from experiment import Experiment\n",
    "\n",
    "for param in model.named_parameters():\n",
    "    if param[0] not in conflicted_params:\n",
    "        param[1].requires_grad = False\n",
    "experiment = Experiment(model, criterion, optimizer, scheduler)\n"
   ]
  },
  {
   "cell_type": "code",
   "execution_count": 12,
   "metadata": {},
   "outputs": [
    {
     "name": "stdout",
     "output_type": "stream",
     "text": [
      "Epoch 1/2\n",
      "----------\n",
      "Phase : train\n",
      "----------\n",
      "Epoch: [1] (1/625)\tBatch 4.586 (4.586)\tData 1.793 (1.793)\tLoss 1.1316 (1.1316)\tPrec@1 56.250 (56.250)\t\n",
      "Epoch: [1] (101/625)\tBatch 0.158 (0.270)\tData 0.000 (0.086)\tLoss 0.2231 (0.5294)\tPrec@1 90.625 (81.590)\t\n",
      "Epoch: [1] (201/625)\tBatch 0.179 (0.239)\tData 0.018 (0.067)\tLoss 0.4823 (0.4154)\tPrec@1 78.125 (85.899)\t\n",
      "Epoch: [1] (301/625)\tBatch 0.266 (0.224)\tData 0.104 (0.056)\tLoss 0.4408 (0.3778)\tPrec@1 84.375 (87.552)\t\n",
      "Epoch: [1] (401/625)\tBatch 0.170 (0.220)\tData 0.000 (0.053)\tLoss 0.2106 (0.3589)\tPrec@1 93.750 (88.365)\t\n",
      "Epoch: [1] (501/625)\tBatch 0.192 (0.222)\tData 0.022 (0.054)\tLoss 0.4573 (0.3500)\tPrec@1 90.625 (88.822)\t\n",
      "Epoch: [1] (601/625)\tBatch 0.356 (0.226)\tData 0.191 (0.058)\tLoss 0.1328 (0.3381)\tPrec@1 93.750 (89.242)\t\n",
      "Epoch: [1] (625/625)\tBatch 0.684 (0.230)\tData 0.519 (0.061)\tLoss 0.8125 (0.3355)\tPrec@1 71.875 (89.320)\t\n",
      "Throughput : 139.338723956\n",
      "Total time for Phase \"train\"in Epoch 1 : 143.545543\n",
      "================================================================================\n",
      "Phase : val\n",
      "----------\n",
      "Epoch: [1] (1/157)\tBatch 1.120 (1.120)\tData 0.969 (0.969)\tLoss 0.0288 (0.0288)\tPrec@1 100.000 (100.000)\t\n",
      "Epoch: [1] (101/157)\tBatch 0.164 (0.189)\tData 0.000 (0.029)\tLoss 0.1149 (0.0399)\tPrec@1 96.875 (98.484)\t\n",
      "Epoch: [1] (157/157)\tBatch 0.045 (0.191)\tData 0.000 (0.031)\tLoss 0.4365 (0.0536)\tPrec@1 87.500 (98.000)\t\n",
      "Throughput : 167.671549061\n",
      "Total time for Phase \"val\"in Epoch 1 : 29.965772\n",
      "================================================================================\n",
      "Train Loss: 0.33551383599\t Train Accuracy: 89.32\n",
      "Val Loss: 0.0536082535505\t Val Accuracy: 98.0\n",
      "\n",
      "Epoch 2/2\n",
      "----------\n",
      "Phase : train\n",
      "----------\n",
      "Epoch: [2] (1/625)\tBatch 0.955 (0.955)\tData 0.779 (0.779)\tLoss 0.2162 (0.2162)\tPrec@1 90.625 (90.625)\t\n",
      "Epoch: [2] (101/625)\tBatch 0.169 (0.179)\tData 0.000 (0.008)\tLoss 0.4440 (0.2835)\tPrec@1 87.500 (91.460)\t\n",
      "Epoch: [2] (201/625)\tBatch 0.174 (0.175)\tData 0.000 (0.004)\tLoss 0.0906 (0.2651)\tPrec@1 93.750 (91.744)\t\n",
      "Epoch: [2] (301/625)\tBatch 0.176 (0.174)\tData 0.000 (0.003)\tLoss 0.2589 (0.2744)\tPrec@1 93.750 (91.601)\t\n",
      "Epoch: [2] (401/625)\tBatch 0.173 (0.173)\tData 0.000 (0.002)\tLoss 0.2334 (0.2687)\tPrec@1 93.750 (91.646)\t\n",
      "Epoch: [2] (501/625)\tBatch 0.169 (0.173)\tData 0.000 (0.002)\tLoss 0.0126 (0.2717)\tPrec@1 100.000 (91.561)\t\n",
      "Epoch: [2] (601/625)\tBatch 0.173 (0.173)\tData 0.000 (0.002)\tLoss 0.0597 (0.2768)\tPrec@1 96.875 (91.431)\t\n",
      "Epoch: [2] (625/625)\tBatch 0.169 (0.173)\tData 0.000 (0.002)\tLoss 0.2624 (0.2760)\tPrec@1 87.500 (91.415)\t\n",
      "Throughput : 185.491464369\n",
      "Total time for Phase \"train\"in Epoch 2 : 107.831355\n",
      "================================================================================\n",
      "Phase : val\n",
      "----------\n",
      "Epoch: [2] (1/157)\tBatch 0.744 (0.744)\tData 0.585 (0.585)\tLoss 0.0707 (0.0707)\tPrec@1 93.750 (93.750)\t\n",
      "Epoch: [2] (101/157)\tBatch 0.158 (0.166)\tData 0.000 (0.006)\tLoss 0.0182 (0.0655)\tPrec@1 100.000 (97.649)\t\n",
      "Epoch: [2] (157/157)\tBatch 0.040 (0.163)\tData 0.000 (0.004)\tLoss 0.1898 (0.0530)\tPrec@1 87.500 (97.980)\t\n",
      "Throughput : 196.196463128\n",
      "Total time for Phase \"val\"in Epoch 2 : 25.608951\n",
      "================================================================================\n",
      "Train Loss: 0.275988071071\t Train Accuracy: 91.415\n",
      "Val Loss: 0.0529670356497\t Val Accuracy: 97.98\n",
      "\n",
      "Training complete in 5m 8s\n",
      "Best val Acc: 98.000000\t Best val loss: 0.052967\n",
      "********************************************************************************\n",
      "\n"
     ]
    }
   ],
   "source": [
    "NUM_EPOCHS = 2\n",
    "experiment.train(NUM_EPOCHS, dataloaders)"
   ]
  },
  {
   "cell_type": "markdown",
   "metadata": {},
   "source": [
    "---\n",
    "#### Prediction\n",
    "\n",
    "For prediction we can still use the same dataset-dataloader to load our dataset and run the model over each input and get a predicted output. Since we don't need the backward pass for this case, we can set the input Variable to `volatile`. This will affect every other variable involved along with this variable in the graph and makes sure there is no gradient computed. By setting it on the input, we are ensuring nothing gets backpropagated.\n",
    "\n",
    "Steps for prediction\n",
    " - Use the dataset-dataloader with the necessary scaling / normalization transform\n",
    " - Call predict with the current or the best model\n",
    " \n",
    "This is also wrapped inside the Experiment class. You can call the `predict` method with the dataloader and optionally the model checkpoint to load from. We usually load the best checkpoint for submission\n",
    "\n",
    "The outputs of this method will be the predictions and the probabilities."
   ]
  },
  {
   "cell_type": "code",
   "execution_count": 19,
   "metadata": {},
   "outputs": [
    {
     "name": "stdout",
     "output_type": "stream",
     "text": [
      "=> loading checkpoint './model_best.pth'\n",
      "Prediction Throughput (images/sec) : 215.622629504\n"
     ]
    }
   ],
   "source": [
    "import torchvision.transforms as transforms\n",
    "import torchvision.datasets as dsets\n",
    "\n",
    "data_transform = transforms.Compose([\n",
    "            transforms.Scale(299),\n",
    "            transforms.CenterCrop(299),\n",
    "            transforms.ToTensor(),\n",
    "            transforms.Normalize([0.485, 0.456, 0.406], [0.229, 0.224, 0.225])\n",
    "            ])\n",
    "testset = dsets.ImageFolder('./data/test', data_transform) \n",
    "testloader = torch.utils.data.DataLoader(testset, \n",
    "                                         batch_size=32,\n",
    "                                         shuffle=False,\n",
    "                                         pin_memory=True,\n",
    "                                         num_workers=4)\n",
    "\n",
    "\n",
    "preds, probs = experiment.predict(testloader, './model_best.pth')"
   ]
  },
  {
   "cell_type": "code",
   "execution_count": 20,
   "metadata": {},
   "outputs": [
    {
     "name": "stdout",
     "output_type": "stream",
     "text": [
      "((12500,), (12500, 2))\n"
     ]
    }
   ],
   "source": [
    "print(preds.shape, probs.shape)"
   ]
  },
  {
   "cell_type": "markdown",
   "metadata": {},
   "source": [
    "Wait, But we dont know which one is what. What does '1' mean - Is it a cat or a dog?\n",
    "\n",
    "To relieve you of this confusion, the dataset has a class-to-index mapping. You can invert the map and get the classnames as follows."
   ]
  },
  {
   "cell_type": "code",
   "execution_count": 21,
   "metadata": {},
   "outputs": [
    {
     "name": "stdout",
     "output_type": "stream",
     "text": [
      "Image 0 : dog\n",
      "Image 1 : dog\n",
      "Image 2 : dog\n",
      "Image 3 : dog\n",
      "Image 4 : cat\n",
      "Image 5 : cat\n",
      "Image 6 : cat\n",
      "Image 7 : cat\n",
      "Image 8 : cat\n",
      "Image 9 : cat\n"
     ]
    }
   ],
   "source": [
    "classess = datasets[\"train\"].classes\n",
    "class_to_idx = datasets[\"train\"].class_to_idx\n",
    "idx_to_class = {v:k for k,v in class_to_idx.iteritems()}\n",
    "\n",
    "# Lets look at first 10 predictions\n",
    "for i in range(10):\n",
    "    print(\"Image {} : {}\".format(i + 1, idx_to_class[preds[i]]))"
   ]
  },
  {
   "cell_type": "code",
   "execution_count": 25,
   "metadata": {},
   "outputs": [
    {
     "data": {
      "image/png": "[encoded data removed]",
      "text/plain": [
       "<matplotlib.figure.Figure at 0x7f099a555c10>"
      ]
     },
     "metadata": {},
     "output_type": "display_data"
    }
   ],
   "source": [
    "# Lets have a look at the images too\n",
    "import matplotlib.pyplot as plt\n",
    "import torchvision\n",
    "import numpy as np\n",
    "plt.ion()\n",
    "\n",
    "# Copied from pytorch tutorials\n",
    "def imshow(inp, title=None):\n",
    "    \"\"\"Imshow for Tensor.\"\"\"\n",
    "    inp = inp.numpy().transpose((1, 2, 0))\n",
    "    mean = np.array([0.485, 0.456, 0.406])\n",
    "    std = np.array([0.229, 0.224, 0.225])\n",
    "    inp = std * inp + mean\n",
    "    plt.imshow(inp)\n",
    "    if title is not None:\n",
    "        plt.title(title)\n",
    "    plt.pause(0.001)  # pause a bit so that plots are updated\n",
    "    \n",
    "inputs, _ = next(iter(testloader))\n",
    "out = torchvision.utils.make_grid(inputs[:10])\n",
    "imshow(out, title=\"Test set\")"
   ]
  },
  {
   "cell_type": "markdown",
   "metadata": {},
   "source": [
    "---\n",
    "### That's all folks\n",
    "\n",
    "**Credits**\n",
    "\n",
    " - Thanks to the PyTorch team for their incredible tutorials, documentation and support in the Forum\n",
    " \n",
    " \n",
    "**References and Citations**\n",
    "\n",
    " - https://github.com/ahirner/pytorch-retraining (inspiration)\n",
    " - http://pytorch.org/tutorials/beginner/transfer_learning_tutorial.html\n",
    " - http://pytorch.org/docs/master/index.html"
   ]
  }
 ],
 "metadata": {
  "kernelspec": {
   "display_name": "Python 2",
   "language": "python",
   "name": "python2"
  },
  "language_info": {
   "codemirror_mode": {
    "name": "ipython",
    "version": 2
   },
   "file_extension": ".py",
   "mimetype": "text/x-python",
   "name": "python",
   "nbconvert_exporter": "python",
   "pygments_lexer": "ipython2",
   "version": "2.7.13"
  }
 },
 "nbformat": 4,
 "nbformat_minor": 2
}
